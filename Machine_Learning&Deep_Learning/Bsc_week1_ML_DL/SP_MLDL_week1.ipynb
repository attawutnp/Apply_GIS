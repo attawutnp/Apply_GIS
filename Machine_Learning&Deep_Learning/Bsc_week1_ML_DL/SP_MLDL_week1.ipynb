{
 "cells": [
  {
   "cell_type": "markdown",
   "metadata": {},
   "source": [
    "# 87651260 Applications of Geographic Information System"
   ]
  },
  {
   "cell_type": "markdown",
   "metadata": {},
   "source": [
    "# Linear Regression Demo\n",
    "## Reference : Predicting House Prices with Linear Regression | Machine Learning from Scratch (Part II)\n",
    "## Link : https://towardsdatascience.com/predicting-house-prices-with-linear-regression-machine-learning-from-scratch-part-ii-47a0238aeac1\n",
    "\n",
    "## Attawut Nardkulpat, Reseach Officer, Burapha University\n",
    "### attawut@buu.ac.th\n",
    "### 13/09/2020"
   ]
  },
  {
   "cell_type": "code",
   "execution_count": null,
   "metadata": {
    "colab": {},
    "colab_type": "code",
    "id": "DWQVJtT2uBSG"
   },
   "outputs": [],
   "source": [
    "import numpy as np\n",
    "import pandas as pd\n",
    "import seaborn as sns\n",
    "from pylab import rcParams\n",
    "import matplotlib.pyplot as plt\n",
    "import matplotlib.animation as animation\n",
    "from matplotlib import rc\n",
    "import unittest\n",
    "\n",
    "%matplotlib inline\n",
    "\n",
    "sns.set(style='whitegrid', palette='muted', font_scale=1.5)\n",
    "\n",
    "#rcParams['figure.figsize'] = 14, 8\n",
    "\n",
    "RANDOM_SEED = 42\n",
    "\n",
    "np.random.seed(RANDOM_SEED)"
   ]
  },
  {
   "cell_type": "markdown",
   "metadata": {
    "colab_type": "text",
    "id": "1W7kXJn1Sh8a"
   },
   "source": [
    "# Load the data\n",
    "\n",
    "Data [House Prices: Advanced Regression Techniques](https://www.kaggle.com/c/house-prices-advanced-regression-techniques)"
   ]
  },
  {
   "cell_type": "code",
   "execution_count": null,
   "metadata": {
    "colab": {},
    "colab_type": "code",
    "id": "P_jaLzJnqT_y"
   },
   "outputs": [],
   "source": [
    "df_train = pd.read_csv('house_prices_train.csv')\n",
    "df_train.head()"
   ]
  },
  {
   "cell_type": "markdown",
   "metadata": {
    "colab_type": "text",
    "id": "X60KNF9RTyEu"
   },
   "source": [
    "# Data exploration"
   ]
  },
  {
   "cell_type": "code",
   "execution_count": null,
   "metadata": {
    "colab": {
     "base_uri": "https://localhost:8080/",
     "height": 170
    },
    "colab_type": "code",
    "id": "4YSv7SqUR6bd",
    "outputId": "5cd3a6a1-f677-498c-ee99-82c48f3f76f6"
   },
   "outputs": [],
   "source": [
    "df_train['SalePrice'].describe()"
   ]
  },
  {
   "cell_type": "code",
   "execution_count": null,
   "metadata": {
    "colab": {
     "base_uri": "https://localhost:8080/",
     "height": 557
    },
    "colab_type": "code",
    "id": "I7ykRIwOVxBa",
    "outputId": "59e2fb56-878b-4851-d478-8fefdc810a54"
   },
   "outputs": [],
   "source": [
    "sns.distplot(df_train['SalePrice']);"
   ]
  },
  {
   "cell_type": "code",
   "execution_count": null,
   "metadata": {
    "colab": {
     "base_uri": "https://localhost:8080/",
     "height": 548
    },
    "colab_type": "code",
    "id": "9A7RjShcV7qm",
    "outputId": "5042bf9d-f1a5-4318-979a-0e3709c7236c",
    "tags": []
   },
   "outputs": [],
   "source": [
    "var = 'GrLivArea'\n",
    "data = pd.concat([df_train['SalePrice'], df_train[var]], axis=1)\n",
    "data.plot.scatter(x=var, y='SalePrice', ylim=(0,800000), s=32);"
   ]
  },
  {
   "cell_type": "code",
   "execution_count": null,
   "metadata": {
    "colab": {
     "base_uri": "https://localhost:8080/",
     "height": 548
    },
    "colab_type": "code",
    "id": "6XgD7MrdWAoJ",
    "outputId": "7f9cb05a-1463-43c4-f66d-7e859d939a5a",
    "tags": []
   },
   "outputs": [],
   "source": [
    "var = 'TotalBsmtSF'\n",
    "data = pd.concat([df_train['SalePrice'], df_train[var]], axis=1)\n",
    "data.plot.scatter(x=var, y='SalePrice', ylim=(0,800000));"
   ]
  },
  {
   "cell_type": "code",
   "execution_count": null,
   "metadata": {
    "colab": {
     "base_uri": "https://localhost:8080/",
     "height": 545
    },
    "colab_type": "code",
    "id": "oOqgVkVrWIHB",
    "outputId": "b58b9360-a305-4dc9-cafd-402b4fcaece6"
   },
   "outputs": [],
   "source": [
    "var = 'OverallQual'\n",
    "data = pd.concat([df_train['SalePrice'], df_train[var]], axis=1)\n",
    "f, ax = plt.subplots(figsize=(14, 8))\n",
    "fig = sns.boxplot(x=var, y=\"SalePrice\", data=data)\n",
    "fig.axis(ymin=0, ymax=800000);"
   ]
  },
  {
   "cell_type": "code",
   "execution_count": null,
   "metadata": {
    "colab": {
     "base_uri": "https://localhost:8080/",
     "height": 634
    },
    "colab_type": "code",
    "id": "K9oqWbmaWWjn",
    "outputId": "73332dea-f384-4941-9637-4193632dddfa"
   },
   "outputs": [],
   "source": [
    "corrmat = df_train.corr()\n",
    "f, ax = plt.subplots(figsize=(12, 9))\n",
    "sns.heatmap(corrmat, vmax=.8, square=True);"
   ]
  },
  {
   "cell_type": "code",
   "execution_count": null,
   "metadata": {
    "colab": {
     "base_uri": "https://localhost:8080/",
     "height": 691
    },
    "colab_type": "code",
    "id": "jGetIp9sWtdo",
    "outputId": "dd2bcbd5-2a95-4d74-baf8-f8006007a197"
   },
   "outputs": [],
   "source": [
    "k = 9 #number of variables for heatmap\n",
    "cols = corrmat.nlargest(k, 'SalePrice')['SalePrice'].index\n",
    "f, ax = plt.subplots(figsize=(14, 10))\n",
    "sns.heatmap(df_train[cols].corr(), vmax=.8, square=True);"
   ]
  },
  {
   "cell_type": "code",
   "execution_count": null,
   "metadata": {
    "colab": {
     "base_uri": "https://localhost:8080/",
     "height": 1143
    },
    "colab_type": "code",
    "id": "-7RoixG1Y0YC",
    "outputId": "09ec694a-8f41-4335-9ea1-4b11f48935f4"
   },
   "outputs": [],
   "source": [
    "cols = ['SalePrice', 'OverallQual', 'GrLivArea', 'GarageCars']\n",
    "sns.pairplot(df_train[cols], size = 4);"
   ]
  },
  {
   "cell_type": "markdown",
   "metadata": {
    "colab_type": "text",
    "id": "O6nLbr0bZN6y"
   },
   "source": [
    "## Do we have missing data?"
   ]
  },
  {
   "cell_type": "code",
   "execution_count": null,
   "metadata": {
    "colab": {
     "base_uri": "https://localhost:8080/",
     "height": 669
    },
    "colab_type": "code",
    "id": "UPfBNvltZ7Cl",
    "outputId": "ca542b72-5839-4daa-c4cd-2cb9764cbb0a"
   },
   "outputs": [],
   "source": [
    "total = df_train.isnull().sum().sort_values(ascending=False)\n",
    "percent = (df_train.isnull().sum()/df_train.isnull().count()).sort_values(ascending=False)\n",
    "missing_data = pd.concat([total, percent], axis=1, keys=['Total', 'Percent'])\n",
    "missing_data.head(20)"
   ]
  },
  {
   "cell_type": "markdown",
   "metadata": {
    "colab_type": "text",
    "id": "V1l9DsgTcJtI"
   },
   "source": [
    "# Predicting the sale price\n",
    "\n",
    "## Preparing the data\n",
    "\n",
    "### Feature scaling\n",
    "\n",
    "We will do a little preprocessing to our data using the following formula (standardization):\n",
    "\n",
    "$$x'= \\frac{x - \\mu}{\\sigma}$$\n",
    "\n",
    "where $\\mu$ is the population mean and $\\sigma$ is the standard deviation.\n",
    "\n",
    "**Source: Andrew Ng**"
   ]
  },
  {
   "cell_type": "code",
   "execution_count": null,
   "metadata": {
    "colab": {},
    "colab_type": "code",
    "id": "JmEcYWkaqYDg"
   },
   "outputs": [],
   "source": [
    "x = df_train['GrLivArea']\n",
    "y = df_train['SalePrice']\n",
    "\n",
    "x = (x - x.mean()) / x.std()\n",
    "x = np.c_[np.ones(x.shape[0]), x] "
   ]
  },
  {
   "cell_type": "code",
   "execution_count": null,
   "metadata": {},
   "outputs": [],
   "source": [
    "x"
   ]
  },
  {
   "cell_type": "code",
   "execution_count": null,
   "metadata": {
    "colab": {
     "base_uri": "https://localhost:8080/",
     "height": 34
    },
    "colab_type": "code",
    "id": "Of3yF9vhEhLv",
    "outputId": "2f0f72e0-0ddb-4287-a7a2-c8641c23a943"
   },
   "outputs": [],
   "source": [
    "x.shape"
   ]
  },
  {
   "cell_type": "code",
   "execution_count": null,
   "metadata": {
    "colab": {},
    "colab_type": "code",
    "id": "7PFCAqS2atC3"
   },
   "outputs": [],
   "source": [
    "def loss(h, y):\n",
    "  sq_error = (h - y)**2\n",
    "  n = len(y)\n",
    "  return 1.0 / (2*n) * sq_error.sum()"
   ]
  },
  {
   "cell_type": "code",
   "execution_count": null,
   "metadata": {
    "colab": {},
    "colab_type": "code",
    "id": "jG2ss3oyFOuX"
   },
   "outputs": [],
   "source": [
    "class LinearRegression:\n",
    "  \n",
    "  def predict(self, X):\n",
    "    return np.dot(X, self._W)\n",
    "  \n",
    "  def _gradient_descent_step(self, X, targets, lr):\n",
    "\n",
    "    predictions = self.predict(X)\n",
    "    \n",
    "    error = predictions - targets\n",
    "    gradient = np.dot(X.T,  error) / len(X)\n",
    "\n",
    "    self._W -= lr * gradient\n",
    "      \n",
    "  def fit(self, X, y, n_iter=100000, lr=0.01):\n",
    "\n",
    "    self._W = np.zeros(X.shape[1])\n",
    "\n",
    "    self._cost_history = []\n",
    "    self._w_history = [self._W]\n",
    "    for i in range(n_iter):\n",
    "      \n",
    "        prediction = self.predict(X)\n",
    "        cost = loss(prediction, y)\n",
    "        \n",
    "        self._cost_history.append(cost)\n",
    "        \n",
    "        self._gradient_descent_step(x, y, lr)\n",
    "        \n",
    "        self._w_history.append(self._W.copy())\n",
    "    return self"
   ]
  },
  {
   "cell_type": "code",
   "execution_count": null,
   "metadata": {
    "colab": {
     "base_uri": "https://localhost:8080/",
     "height": 34
    },
    "colab_type": "code",
    "id": "Dl5Io9hMJRAm",
    "outputId": "94f3b26b-a3d3-4c69-8339-075ffcd9dfd1"
   },
   "outputs": [],
   "source": [
    "clf = LinearRegression()\n",
    "clf.fit(x, y, n_iter=2000, lr=0.01)"
   ]
  },
  {
   "cell_type": "code",
   "execution_count": null,
   "metadata": {},
   "outputs": [],
   "source": [
    "y123 = clf.predict(x)"
   ]
  },
  {
   "cell_type": "code",
   "execution_count": null,
   "metadata": {},
   "outputs": [],
   "source": [
    "y123"
   ]
  },
  {
   "cell_type": "code",
   "execution_count": null,
   "metadata": {
    "colab": {
     "base_uri": "https://localhost:8080/",
     "height": 34
    },
    "colab_type": "code",
    "id": "9cmILFdpJ0MS",
    "outputId": "eb0b9525-4ad3-4b3b-ce42-76f3eb5eff18"
   },
   "outputs": [],
   "source": [
    "clf._W"
   ]
  },
  {
   "cell_type": "code",
   "execution_count": null,
   "metadata": {
    "colab": {
     "base_uri": "https://localhost:8080/",
     "height": 525
    },
    "colab_type": "code",
    "id": "t2FeoJ6aOZlX",
    "outputId": "6def3390-f8dc-41d7-f63a-66b343e2b5c7"
   },
   "outputs": [],
   "source": [
    "plt.title('Cost Function J')\n",
    "plt.xlabel('No. of iterations')\n",
    "plt.ylabel('Cost')\n",
    "plt.plot(clf._cost_history)\n",
    "plt.show()"
   ]
  },
  {
   "cell_type": "code",
   "execution_count": null,
   "metadata": {
    "colab": {
     "base_uri": "https://localhost:8080/",
     "height": 34
    },
    "colab_type": "code",
    "id": "2aYdUELAMyE6",
    "outputId": "869eff82-e88f-4eeb-9782-7f7729df7e85"
   },
   "outputs": [],
   "source": [
    "clf._cost_history[-1]"
   ]
  },
  {
   "cell_type": "code",
   "execution_count": null,
   "metadata": {
    "colab": {
     "base_uri": "https://localhost:8080/",
     "height": 704
    },
    "colab_type": "code",
    "id": "D382iNZEO0Zo",
    "outputId": "6453181e-5175-4be9-e68e-1b5bdc413a8d"
   },
   "outputs": [],
   "source": [
    "#Animation\n",
    "\n",
    "#Set the plot up,\n",
    "fig = plt.figure()\n",
    "ax = plt.axes()\n",
    "plt.title('Sale Price vs Living Area')\n",
    "plt.xlabel('Living Area in square feet (normalised)')\n",
    "plt.ylabel('Sale Price ($)')\n",
    "plt.scatter(x[:,1], y)\n",
    "line, = ax.plot([], [], lw=2, color='red')\n",
    "annotation = ax.text(-1, 700000, '')\n",
    "annotation.set_animated(True)\n",
    "plt.close()\n",
    "\n",
    "#Generate the animation data,\n",
    "def init():\n",
    "    line.set_data([], [])\n",
    "    annotation.set_text('')\n",
    "    return line, annotation\n",
    "\n",
    "# animation function.  This is called sequentially\n",
    "def animate(i):\n",
    "    x = np.linspace(-5, 20, 1000)\n",
    "    y = clf._w_history[i][1]*x + clf._w_history[i][0]\n",
    "    line.set_data(x, y)\n",
    "    annotation.set_text('Cost = %.2f e10' % (clf._cost_history[i]/10000000000))\n",
    "    return line, annotation\n",
    "\n",
    "anim = animation.FuncAnimation(fig, animate, init_func=init,\n",
    "                               frames=300, interval=10, blit=True)\n",
    "\n",
    "rc('animation', html='jshtml')\n",
    "\n",
    "anim"
   ]
  },
  {
   "cell_type": "markdown",
   "metadata": {},
   "source": [
    "# Predict"
   ]
  },
  {
   "cell_type": "code",
   "execution_count": null,
   "metadata": {},
   "outputs": [],
   "source": [
    "df_test = pd.read_csv('house_prices_test.csv')\n",
    "df_test.head()"
   ]
  },
  {
   "cell_type": "code",
   "execution_count": null,
   "metadata": {},
   "outputs": [],
   "source": [
    "total_test = df_test.isnull().sum().sort_values(ascending=False)\n",
    "percent_test = (df_test.isnull().sum()/df_test.isnull().count()).sort_values(ascending=False)\n",
    "missing_data_test = pd.concat([total_test, percent_test], axis=1, keys=['Total', 'Percent'])\n",
    "missing_data_test.head(20)"
   ]
  },
  {
   "cell_type": "code",
   "execution_count": null,
   "metadata": {},
   "outputs": [],
   "source": [
    "x_test = df_test['GrLivArea']\n",
    "y_test = df_test['SalePrice']\n",
    "\n",
    "x_test = (x_test - x_test.mean()) / x_test.std()\n",
    "x_test = np.c_[np.ones(x_test.shape[0]), x_test] "
   ]
  },
  {
   "cell_type": "code",
   "execution_count": null,
   "metadata": {},
   "outputs": [],
   "source": [
    "x_test"
   ]
  },
  {
   "cell_type": "code",
   "execution_count": null,
   "metadata": {},
   "outputs": [],
   "source": [
    "y_test = clf.predict(x_test)"
   ]
  },
  {
   "cell_type": "code",
   "execution_count": null,
   "metadata": {},
   "outputs": [],
   "source": [
    "y_test = pd.DataFrame(y_test)"
   ]
  },
  {
   "cell_type": "code",
   "execution_count": null,
   "metadata": {},
   "outputs": [],
   "source": [
    "y_test[\"SalePrice\"] = y_test[0]"
   ]
  },
  {
   "cell_type": "code",
   "execution_count": null,
   "metadata": {},
   "outputs": [],
   "source": [
    "y_test"
   ]
  },
  {
   "cell_type": "markdown",
   "metadata": {},
   "source": [
    "# Join Data"
   ]
  },
  {
   "cell_type": "code",
   "execution_count": null,
   "metadata": {},
   "outputs": [],
   "source": [
    "result = pd.merge(df_test, y_test['SalePrice'], left_index=True,right_index=True)"
   ]
  },
  {
   "cell_type": "code",
   "execution_count": null,
   "metadata": {},
   "outputs": [],
   "source": [
    "result "
   ]
  },
  {
   "cell_type": "markdown",
   "metadata": {
    "colab_type": "text",
    "id": "vRxiVvutuQ30"
   },
   "source": [
    "# Multivariable Linear Regression\n",
    "\n",
    "Let's use more of the available data to build a Multivariable Linear Regression model and see whether or not that will improve our OHMSE error:"
   ]
  },
  {
   "cell_type": "code",
   "execution_count": null,
   "metadata": {
    "colab": {
     "base_uri": "https://localhost:8080/",
     "height": 34
    },
    "colab_type": "code",
    "id": "7COJ54iJuQTC",
    "outputId": "68e81cf9-5c7d-4f59-ef99-f6b16e4be93d"
   },
   "outputs": [],
   "source": [
    "x = df_train[['OverallQual', 'GrLivArea', 'GarageCars']]\n",
    "\n",
    "x = (x - x.mean()) / x.std()\n",
    "x = np.c_[np.ones(x.shape[0]), x] \n",
    "\n",
    "clf = LinearRegression()\n",
    "clf.fit(x, y, n_iter=2000, lr=0.01)"
   ]
  },
  {
   "cell_type": "code",
   "execution_count": null,
   "metadata": {
    "colab": {
     "base_uri": "https://localhost:8080/",
     "height": 34
    },
    "colab_type": "code",
    "id": "cW68k8Duu1Tw",
    "outputId": "71b000a2-26d1-4c88-abac-ffad276815c7"
   },
   "outputs": [],
   "source": [
    "clf._W"
   ]
  },
  {
   "cell_type": "code",
   "execution_count": null,
   "metadata": {
    "colab": {
     "base_uri": "https://localhost:8080/",
     "height": 525
    },
    "colab_type": "code",
    "id": "8ZcgpItsu5GO",
    "outputId": "c8e913b3-8f63-4e93-f9d1-1adeb1c9fda0"
   },
   "outputs": [],
   "source": [
    "plt.title('Cost Function J')\n",
    "plt.xlabel('No. of iterations')\n",
    "plt.ylabel('Cost')\n",
    "plt.plot(clf._cost_history)\n",
    "plt.show()"
   ]
  },
  {
   "cell_type": "code",
   "execution_count": null,
   "metadata": {
    "colab": {
     "base_uri": "https://localhost:8080/",
     "height": 34
    },
    "colab_type": "code",
    "id": "Jv4q_lPQu80b",
    "outputId": "b5fe4ad6-98ad-4d0e-cec8-667b2b09e5aa"
   },
   "outputs": [],
   "source": [
    "clf._cost_history[-1]"
   ]
  }
 ],
 "metadata": {
  "accelerator": "GPU",
  "colab": {
   "collapsed_sections": [],
   "name": "2.linear_regression.ipynb",
   "provenance": []
  },
  "kernelspec": {
   "display_name": "Python 3",
   "language": "python",
   "name": "python3"
  },
  "language_info": {
   "codemirror_mode": {
    "name": "ipython",
    "version": 3
   },
   "file_extension": ".py",
   "mimetype": "text/x-python",
   "name": "python",
   "nbconvert_exporter": "python",
   "pygments_lexer": "ipython3",
   "version": "3.8.5"
  }
 },
 "nbformat": 4,
 "nbformat_minor": 1
}
