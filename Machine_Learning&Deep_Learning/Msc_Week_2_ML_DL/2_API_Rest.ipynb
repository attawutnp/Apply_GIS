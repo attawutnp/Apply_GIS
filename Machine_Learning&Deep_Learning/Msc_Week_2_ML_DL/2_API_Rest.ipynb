{
 "cells": [
  {
   "cell_type": "markdown",
   "metadata": {},
   "source": [
    "# 87651260 Applications of Geographic Information System"
   ]
  },
  {
   "cell_type": "markdown",
   "metadata": {},
   "source": [
    "# API Rest\n",
    "\n",
    "## Attawut Nardkulpat, Reseach Officer, Burapha University\n",
    "### attawut@buu.ac.th\n",
    "### 08/08/2020"
   ]
  },
  {
   "cell_type": "markdown",
   "metadata": {},
   "source": [
    "# ThaiRSC"
   ]
  },
  {
   "cell_type": "code",
   "execution_count": null,
   "metadata": {
    "tags": []
   },
   "outputs": [],
   "source": [
    "!pip install geojson\n",
    "!pip install geopandas"
   ]
  },
  {
   "cell_type": "code",
   "execution_count": null,
   "metadata": {},
   "outputs": [],
   "source": [
    "import pandas as pd\n",
    "#import geopandas as gpd\n",
    "import requests\n",
    "from datetime import datetime\n",
    "from datetime import timedelta \n",
    "#from shapely.geometry import Point\n",
    "import geojson\n",
    "import shutil as cp\n",
    "import os\n",
    "import datetime\n",
    "import glob"
   ]
  },
  {
   "cell_type": "code",
   "execution_count": null,
   "metadata": {},
   "outputs": [],
   "source": [
    "yy = int(2018) #Year\n",
    "provid = str(\"ชบ\")\n",
    "url = \"http://www.thairsc.com/services/GetAmphurTopThreeList\""
   ]
  },
  {
   "cell_type": "code",
   "execution_count": null,
   "metadata": {
    "tags": []
   },
   "outputs": [],
   "source": [
    " for cnt in range(1,cnt):\n",
    "        querystring = {\"provid\":provid,\"ampid\":cnt,\"years\":yy} \n",
    "        headers = {\n",
    "            }\n",
    "        #print(querystring)\n",
    "        response = requests.request(\"POST\", url, headers=headers, params=querystring)\n",
    "        Output = response.json()\n",
    "        #print(Output['dtLatlng'])\n",
    "        dict1 =Output\n",
    "        #print(Output)\n",
    "        ab0 = len(Output['dtLatlng'])\n",
    "        if ab0 == 0:\n",
    "            print(\"Finish\",provid)\n",
    "            break\n",
    "        elif ab0 > 0:\n",
    "            df0 = pd.DataFrame()\n",
    "            list_branch_accdate=[]\n",
    "            for i in range(0,ab0):\n",
    "                list_branch_accdate.append(dict1['dtLatlng'][i]['accdate'])\n",
    "            df0['accdate']=list_branch_accdate\n",
    "            list_branch_accplace=[]\n",
    "            for i in range(0,ab0):\n",
    "                list_branch_accplace.append(dict1['dtLatlng'][i]['accplace'])\n",
    "            df0['accplace']=list_branch_accplace\n",
    "\n",
    "            list_branch_accnature=[]\n",
    "            for i in range(0,ab0):\n",
    "                list_branch_accnature.append(dict1['dtLatlng'][i]['accnature'])\n",
    "            df0['accnature']=list_branch_accnature\n",
    "\n",
    "            list_branch_isdead=[]\n",
    "            for i in range(0,ab0):\n",
    "                list_branch_isdead.append(dict1['dtLatlng'][i]['isdead'])\n",
    "            df0['isdead']=list_branch_isdead\n",
    "\n",
    "            list_branch_lat=[]\n",
    "            for i in range(0,ab0):\n",
    "                list_branch_lat.append(dict1['dtLatlng'][i]['lat'])\n",
    "            df0['lat']=list_branch_lat\n",
    "\n",
    "            list_branch_lng=[]\n",
    "            for i in range(0,ab0):\n",
    "                list_branch_lng.append(dict1['dtLatlng'][i]['lng'])\n",
    "            df0['lng']=list_branch_lng\n",
    "\n",
    "            df0['year'] = yy\n",
    "\n",
    "            df0.to_csv(provid + str(cnt) + '_' + str(yy) + '.csv', encoding='utf-8-sig')"
   ]
  },
  {
   "cell_type": "markdown",
   "metadata": {},
   "source": [
    "# Flickr"
   ]
  },
  {
   "cell_type": "code",
   "execution_count": null,
   "metadata": {
    "tags": []
   },
   "outputs": [],
   "source": [
    "!pip install flickrapi\n",
    "!pip install json\n",
    "!pip install pandas\n",
    "!pip install re\n",
    "!pip install json\n",
    "!pip install os\n",
    "!pip install csv\n",
    "!pip install glob"
   ]
  },
  {
   "cell_type": "code",
   "execution_count": null,
   "metadata": {},
   "outputs": [],
   "source": [
    "from flickrapi import FlickrAPI\n",
    "import json\n",
    "import pandas as pd   \n",
    "import re\n",
    "import json \n",
    "import csv \n",
    "import os\n",
    "import glob"
   ]
  },
  {
   "cell_type": "code",
   "execution_count": null,
   "metadata": {},
   "outputs": [],
   "source": [
    "keyword = str(\"Chon Buri\")\n",
    "\n",
    "#Get Flickr\n",
    "FLICKR_PUBLIC = ''\n",
    "FLICKR_SECRET = ''\n",
    "flickr = FlickrAPI(FLICKR_PUBLIC, FLICKR_SECRET, format='parsed-json')\n",
    "response = flickr.photos.search(text= keyword, extras = \"date_taken,owner_name,geo\",page = 1,hasgeo = \"1\",)\n",
    "title  = response['photos']['photo']"
   ]
  },
  {
   "cell_type": "code",
   "execution_count": null,
   "metadata": {},
   "outputs": [],
   "source": [
    "to_json = json.dumps(title)\n",
    "df = pd.read_json(to_json)\n",
    "df.to_csv('flickr_test.csv', encoding='utf-8-sig')"
   ]
  }
 ],
 "metadata": {
  "kernelspec": {
   "display_name": "Python 3",
   "language": "python",
   "name": "python3"
  },
  "language_info": {
   "codemirror_mode": {
    "name": "ipython",
    "version": 3
   },
   "file_extension": ".py",
   "mimetype": "text/x-python",
   "name": "python",
   "nbconvert_exporter": "python",
   "pygments_lexer": "ipython3",
   "version": "3.7.7"
  }
 },
 "nbformat": 4,
 "nbformat_minor": 2
}