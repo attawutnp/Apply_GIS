{
 "cells": [
  {
   "cell_type": "markdown",
   "metadata": {},
   "source": [
    "# 87651260 Applications of Geographic Information System"
   ]
  },
  {
   "cell_type": "markdown",
   "metadata": {},
   "source": [
    "# Basic Pandas & Plot\n",
    "## Reference : Basic Pandas for Data science โดย ดร.อรรถพล ธำรงรัตนฤทธิ์ ภาควิชาภาษาศาสตร์ คณะอักษรศาสตร์ จุฬาลงกรณ์มหาวิทยาลัย\n",
    "\n",
    "## Attawut Nardkulpat, Reseach Officer, Burapha University\n",
    "### attawut@buu.ac.th\n",
    "### 08/08/2020"
   ]
  },
  {
   "cell_type": "markdown",
   "metadata": {
    "colab_type": "text",
    "id": "NWRZ8qugDeAl"
   },
   "source": [
    "# Importing Data"
   ]
  },
  {
   "cell_type": "code",
   "execution_count": null,
   "metadata": {
    "colab": {},
    "colab_type": "code",
    "id": "nUc8jxJsDfjm"
   },
   "outputs": [],
   "source": [
    "import pandas as pd"
   ]
  },
  {
   "cell_type": "code",
   "execution_count": null,
   "metadata": {
    "colab": {},
    "colab_type": "code",
    "id": "0sdvHWMjF_Jd"
   },
   "outputs": [],
   "source": [
    "customer = pd.read_excel('C:/Users/Attawutn/Documents/GitHub/Apply_GIS/Week_2/spending.xlsx', sheet_name=0)"
   ]
  },
  {
   "cell_type": "code",
   "execution_count": null,
   "metadata": {},
   "outputs": [],
   "source": [
    "customer"
   ]
  },
  {
   "cell_type": "code",
   "execution_count": null,
   "metadata": {
    "colab": {},
    "colab_type": "code",
    "id": "v1dqRdY5FvFj"
   },
   "outputs": [],
   "source": [
    "spending = pd.read_excel('spending.xlsx', sheet_name=1)"
   ]
  },
  {
   "cell_type": "code",
   "execution_count": null,
   "metadata": {},
   "outputs": [],
   "source": [
    "spending"
   ]
  },
  {
   "cell_type": "code",
   "execution_count": null,
   "metadata": {
    "colab": {
     "base_uri": "https://localhost:8080/",
     "height": 284
    },
    "colab_type": "code",
    "id": "7HZ-CtPjSFPT",
    "outputId": "c850cf40-7e81-416d-b235-9a1503bb4dbf"
   },
   "outputs": [],
   "source": [
    "spending.tail(10)"
   ]
  },
  {
   "cell_type": "code",
   "execution_count": null,
   "metadata": {
    "colab": {
     "base_uri": "https://localhost:8080/",
     "height": 166
    },
    "colab_type": "code",
    "id": "z2BjI4o6SjXb",
    "outputId": "c5551b3f-2ea1-48ee-ea39-61c1ff267a89"
   },
   "outputs": [],
   "source": [
    "spending.sample()"
   ]
  },
  {
   "cell_type": "code",
   "execution_count": null,
   "metadata": {
    "colab": {
     "base_uri": "https://localhost:8080/",
     "height": 195
    },
    "colab_type": "code",
    "id": "1NJyfg96S2bG",
    "outputId": "8607d5f2-99ae-47ad-fa6d-91758c6971b4"
   },
   "outputs": [],
   "source": [
    "customer.sample()"
   ]
  },
  {
   "cell_type": "code",
   "execution_count": null,
   "metadata": {
    "colab": {
     "base_uri": "https://localhost:8080/",
     "height": 34
    },
    "colab_type": "code",
    "id": "_Rul-a9gTE58",
    "outputId": "227be8d2-56d2-4819-ff91-08194c288743"
   },
   "outputs": [],
   "source": [
    "spending.columns"
   ]
  },
  {
   "cell_type": "markdown",
   "metadata": {
    "colab_type": "text",
    "id": "s4zf7ECkEJlu"
   },
   "source": [
    "# Basic Analysis\n",
    "\n",
    "* Numerical value\n",
    "  * Mean, Median\n",
    "  * Stdev, range\n",
    "\n",
    "* Categorical value\n",
    "  * Distribution\n",
    "  * Majority\n",
    "\n"
   ]
  },
  {
   "cell_type": "code",
   "execution_count": null,
   "metadata": {
    "colab": {
     "base_uri": "https://localhost:8080/",
     "height": 34
    },
    "colab_type": "code",
    "id": "mUtyKjQYD_CW",
    "outputId": "648e79c6-264a-4d6a-9083-018fbb3ed075"
   },
   "outputs": [],
   "source": [
    "spending.Spending.value_counts()"
   ]
  },
  {
   "cell_type": "code",
   "execution_count": null,
   "metadata": {
    "colab": {
     "base_uri": "https://localhost:8080/",
     "height": 34
    },
    "colab_type": "code",
    "id": "4INH0EZKUIhM",
    "outputId": "1ac575eb-6a8a-42e0-f52d-48dbe20ebd31"
   },
   "outputs": [],
   "source": [
    "spending.Spending.median()"
   ]
  },
  {
   "cell_type": "code",
   "execution_count": null,
   "metadata": {
    "colab": {
     "base_uri": "https://localhost:8080/",
     "height": 168
    },
    "colab_type": "code",
    "id": "8I5KMCtKUPUW",
    "outputId": "72edb26f-4950-4f59-e1c9-4de1307426dc"
   },
   "outputs": [],
   "source": [
    "spending['Spending'].describe()"
   ]
  },
  {
   "cell_type": "code",
   "execution_count": null,
   "metadata": {
    "colab": {
     "base_uri": "https://localhost:8080/",
     "height": 101
    },
    "colab_type": "code",
    "id": "hk7MtraxUuwM",
    "outputId": "38265328-322b-42a4-a3b0-404ddf39e2c6"
   },
   "outputs": [],
   "source": [
    "spending['Card type'].describe()"
   ]
  },
  {
   "cell_type": "code",
   "execution_count": null,
   "metadata": {
    "colab": {
     "base_uri": "https://localhost:8080/",
     "height": 101
    },
    "colab_type": "code",
    "id": "ylNjIv4HVepx",
    "outputId": "95fc68f3-ee3f-49f5-f052-7bf9d2d2cf5b"
   },
   "outputs": [],
   "source": [
    "spending['Card type'].value_counts()"
   ]
  },
  {
   "cell_type": "code",
   "execution_count": null,
   "metadata": {
    "colab": {
     "base_uri": "https://localhost:8080/",
     "height": 101
    },
    "colab_type": "code",
    "id": "PN_T_FX9VuGn",
    "outputId": "e040af47-ad20-4981-c62a-7c6c8eb9d702"
   },
   "outputs": [],
   "source": [
    "spending['Card type'].value_counts(normalize=True)"
   ]
  },
  {
   "cell_type": "markdown",
   "metadata": {
    "colab_type": "text",
    "id": "4jXiz0hMDgD2"
   },
   "source": [
    "# Exploring Data\n",
    "\n",
    "* ตรวจสอบค่าของแต่ละ Column ด้วยสถิติ\n",
    "\n",
    "* แก้ไขค่าที่ไม่ถูกต้อง\n",
    "* กำจัด row ที่ไม่ต้องการออกไป\n",
    "  * Drop\n",
    "  * Filter with boolean masking\n",
    "* การสร้าง Column ใหม่\n",
    "  * Recoding numerical values"
   ]
  },
  {
   "cell_type": "code",
   "execution_count": null,
   "metadata": {
    "colab": {
     "base_uri": "https://localhost:8080/",
     "height": 218
    },
    "colab_type": "code",
    "id": "CbIlvJIkWk4w",
    "outputId": "774bac4b-9f33-4bcf-e7b0-878c8ff2d68e"
   },
   "outputs": [],
   "source": [
    "a = spending['Card type'] == 'Daimond'"
   ]
  },
  {
   "cell_type": "code",
   "execution_count": null,
   "metadata": {},
   "outputs": [],
   "source": [
    "a"
   ]
  },
  {
   "cell_type": "code",
   "execution_count": null,
   "metadata": {},
   "outputs": [],
   "source": [
    "spending[a]"
   ]
  },
  {
   "cell_type": "code",
   "execution_count": null,
   "metadata": {
    "colab": {
     "base_uri": "https://localhost:8080/",
     "height": 136
    },
    "colab_type": "code",
    "id": "hkgw4-XqEJ-r",
    "outputId": "c4e28e3e-c7f1-4dfa-bebb-a8d54c04a54d"
   },
   "outputs": [],
   "source": [
    "condition = spending['Card type'] == 'Daimond'\n",
    "spending[condition]"
   ]
  },
  {
   "cell_type": "code",
   "execution_count": null,
   "metadata": {},
   "outputs": [],
   "source": [
    "spending['Card type'].replace('Daimond', 'Diamond')"
   ]
  },
  {
   "cell_type": "code",
   "execution_count": null,
   "metadata": {
    "colab": {
     "base_uri": "https://localhost:8080/",
     "height": 84
    },
    "colab_type": "code",
    "id": "4FwnxxGpXDMV",
    "outputId": "b532d27f-727e-49e0-cd15-3dcf638dbca7"
   },
   "outputs": [],
   "source": [
    "spending['Card type'].replace('Daimond', 'Diamond').value_counts()"
   ]
  },
  {
   "cell_type": "code",
   "execution_count": null,
   "metadata": {
    "colab": {},
    "colab_type": "code",
    "id": "l9cjhtfoXZOW"
   },
   "outputs": [],
   "source": [
    "spending['Card type'] = spending['Card type'].replace('Daimond', 'Diamond')"
   ]
  },
  {
   "cell_type": "code",
   "execution_count": null,
   "metadata": {},
   "outputs": [],
   "source": [
    "spending"
   ]
  },
  {
   "cell_type": "code",
   "execution_count": null,
   "metadata": {},
   "outputs": [],
   "source": [
    "spending.columns"
   ]
  },
  {
   "cell_type": "code",
   "execution_count": null,
   "metadata": {
    "colab": {},
    "colab_type": "code",
    "id": "jPsqmxuOXuEP"
   },
   "outputs": [],
   "source": [
    "spending2 = spending.drop('Region', axis=1)"
   ]
  },
  {
   "cell_type": "code",
   "execution_count": null,
   "metadata": {
    "colab": {
     "base_uri": "https://localhost:8080/",
     "height": 195
    },
    "colab_type": "code",
    "id": "EoMpwk2AYmwU",
    "outputId": "99f0eef6-03fb-40bc-e651-b6cc866ec3b9"
   },
   "outputs": [],
   "source": [
    "spending2.head()"
   ]
  },
  {
   "cell_type": "code",
   "execution_count": null,
   "metadata": {
    "colab": {
     "base_uri": "https://localhost:8080/",
     "height": 195
    },
    "colab_type": "code",
    "id": "6IZu6o7aYQFQ",
    "outputId": "76ebb6f7-e445-4f95-e2b0-4842c0fcddca"
   },
   "outputs": [],
   "source": [
    "spending.head()"
   ]
  },
  {
   "cell_type": "code",
   "execution_count": null,
   "metadata": {
    "colab": {},
    "colab_type": "code",
    "id": "n5E_kyuQYuZK"
   },
   "outputs": [],
   "source": [
    "spending.drop('Region', axis=1, inplace=True)"
   ]
  },
  {
   "cell_type": "code",
   "execution_count": null,
   "metadata": {
    "colab": {
     "base_uri": "https://localhost:8080/",
     "height": 195
    },
    "colab_type": "code",
    "id": "krprEVDFY6G3",
    "outputId": "9ede687a-bab7-4d2c-ae5b-3779740e63cd"
   },
   "outputs": [],
   "source": [
    "spending.head()"
   ]
  },
  {
   "cell_type": "markdown",
   "metadata": {
    "colab_type": "text",
    "id": "vPcpKWrYZLIk"
   },
   "source": [
    "# Merging Dataframes"
   ]
  },
  {
   "cell_type": "code",
   "execution_count": null,
   "metadata": {
    "colab": {
     "base_uri": "https://localhost:8080/",
     "height": 195
    },
    "colab_type": "code",
    "id": "hMKDR9tPZVZh",
    "outputId": "f63dc30f-23a1-4def-8548-cd27eac7d524"
   },
   "outputs": [],
   "source": [
    "customer.head()"
   ]
  },
  {
   "cell_type": "code",
   "execution_count": null,
   "metadata": {
    "colab": {
     "base_uri": "https://localhost:8080/",
     "height": 134
    },
    "colab_type": "code",
    "id": "yfLTtIlxaAd1",
    "outputId": "3c2e84e3-b097-4069-ebe4-05b594ec34e3"
   },
   "outputs": [],
   "source": [
    "customer.Region.value_counts()"
   ]
  },
  {
   "cell_type": "code",
   "execution_count": null,
   "metadata": {
    "colab": {
     "base_uri": "https://localhost:8080/",
     "height": 168
    },
    "colab_type": "code",
    "id": "S3dbR6AcaIIV",
    "outputId": "7b555520-a09c-40b4-dde1-72da07ce32d3"
   },
   "outputs": [],
   "source": [
    "customer.Age.describe()"
   ]
  },
  {
   "cell_type": "code",
   "execution_count": null,
   "metadata": {
    "colab": {},
    "colab_type": "code",
    "id": "LYDPh625aX5R"
   },
   "outputs": [],
   "source": [
    "customer_spending = spending.merge(customer, on='Customer ID')"
   ]
  },
  {
   "cell_type": "code",
   "execution_count": null,
   "metadata": {
    "colab": {
     "base_uri": "https://localhost:8080/",
     "height": 195
    },
    "colab_type": "code",
    "id": "JnhrjZIKbZ_4",
    "outputId": "dc9633f5-32df-467f-ac11-7b0221320b27"
   },
   "outputs": [],
   "source": [
    "customer_spending.head(100)"
   ]
  },
  {
   "cell_type": "code",
   "execution_count": null,
   "metadata": {},
   "outputs": [],
   "source": [
    "test = customer_spending.groupby(['Region'])"
   ]
  },
  {
   "cell_type": "code",
   "execution_count": null,
   "metadata": {},
   "outputs": [],
   "source": [
    "test.mean()"
   ]
  },
  {
   "cell_type": "code",
   "execution_count": null,
   "metadata": {
    "colab": {
     "base_uri": "https://localhost:8080/",
     "height": 363
    },
    "colab_type": "code",
    "id": "U_UZjogebAeg",
    "outputId": "02e86bd7-0e04-4099-8bbd-4427cd02e130"
   },
   "outputs": [],
   "source": [
    "customer_spending.groupby(['Region', 'Card type']).mean()['Spending']"
   ]
  },
  {
   "cell_type": "code",
   "execution_count": null,
   "metadata": {
    "colab": {
     "base_uri": "https://localhost:8080/",
     "height": 104
    },
    "colab_type": "code",
    "id": "oq3rIWRib8mB",
    "outputId": "7a7d6ab4-28e9-46eb-97b4-a9df38d778db"
   },
   "outputs": [],
   "source": [
    "customer_spending.groupby(['Card type']).mean()['Spending']"
   ]
  },
  {
   "cell_type": "markdown",
   "metadata": {
    "colab_type": "text",
    "id": "fpfQYFkrFnp5"
   },
   "source": [
    "# Basic plotting"
   ]
  },
  {
   "cell_type": "code",
   "execution_count": null,
   "metadata": {
    "colab": {},
    "colab_type": "code",
    "id": "9XzanE3MGUAI"
   },
   "outputs": [],
   "source": [
    "from IPython.display import HTML\n",
    "\n",
    "import pandas as pd\n",
    "import numpy as np\n",
    "import seaborn as sns\n",
    "import matplotlib.pyplot as plt\n",
    "\n",
    "plt.style.use('ggplot')\n",
    "%matplotlib inline\n",
    "plt.rcParams['figure.figsize'] = (10, 8)\n",
    "plt.rcParams['font.size'] = 12"
   ]
  },
  {
   "cell_type": "code",
   "execution_count": null,
   "metadata": {
    "colab": {
     "base_uri": "https://localhost:8080/",
     "height": 486
    },
    "colab_type": "code",
    "id": "qFFilGREEk8c",
    "outputId": "e17a7c1d-d898-4ef1-9b72-dc6a018cb720"
   },
   "outputs": [],
   "source": [
    "spending.Spending.plot(kind='hist');"
   ]
  },
  {
   "cell_type": "code",
   "execution_count": null,
   "metadata": {
    "colab": {
     "base_uri": "https://localhost:8080/",
     "height": 567
    },
    "colab_type": "code",
    "id": "CC_3XsKrGGBr",
    "outputId": "b62bc24f-02d8-44aa-ca60-c33b89906ce4"
   },
   "outputs": [],
   "source": [
    "customer_spending.groupby(['Region']).mean()['Spending'].plot(kind='bar')"
   ]
  },
  {
   "cell_type": "code",
   "execution_count": null,
   "metadata": {
    "colab": {
     "base_uri": "https://localhost:8080/",
     "height": 567
    },
    "colab_type": "code",
    "id": "yYYbsnPnc4bj",
    "outputId": "fba5e034-be19-4270-a62a-15d9e2f62bd5"
   },
   "outputs": [],
   "source": [
    "customer_spending.groupby(['Region']).mean()['Spending'].sort_values(scending=True).plot(kind='bar')"
   ]
  },
  {
   "cell_type": "code",
   "execution_count": null,
   "metadata": {},
   "outputs": [],
   "source": []
  }
 ],
 "metadata": {
  "colab": {
   "name": "pandas workshop by True Digital Academy.ipynb",
   "provenance": []
  },
  "kernelspec": {
   "display_name": "Python 3",
   "language": "python",
   "name": "python3"
  },
  "language_info": {
   "codemirror_mode": {
    "name": "ipython",
    "version": 3
   },
   "file_extension": ".py",
   "mimetype": "text/x-python",
   "name": "python",
   "nbconvert_exporter": "python",
   "pygments_lexer": "ipython3",
   "version": "3.7.7"
  }
 },
 "nbformat": 4,
 "nbformat_minor": 1
}