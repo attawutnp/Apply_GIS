{
 "metadata": {
  "language_info": {
   "codemirror_mode": {
    "name": "ipython",
    "version": 3
   },
   "file_extension": ".py",
   "mimetype": "text/x-python",
   "name": "python",
   "nbconvert_exporter": "python",
   "pygments_lexer": "ipython3",
   "version": "3.7.7-final"
  },
  "orig_nbformat": 2,
  "kernelspec": {
   "name": "python3",
   "display_name": "Python 3"
  }
 },
 "nbformat": 4,
 "nbformat_minor": 2,
 "cells": [
  {
   "cell_type": "markdown",
   "metadata": {},
   "source": [
    "# 87651260 Applications of Geographic Information System"
   ]
  },
  {
   "cell_type": "markdown",
   "metadata": {},
   "source": [
    "# Geolocation\n",
    "\n",
    "## Attawut Nardkulpat, Reseach Officer, Burapha University\n",
    "### attawut@buu.ac.th\n",
    "### 14/08/2020"
   ]
  },
  {
   "cell_type": "code",
   "execution_count": null,
   "metadata": {
    "tags": []
   },
   "outputs": [],
   "source": [
    "!pip install geopandas\n",
    "!pip install GeoText\n",
    "!pip install geopy"
   ]
  },
  {
   "cell_type": "code",
   "execution_count": null,
   "metadata": {},
   "outputs": [],
   "source": [
    "import matplotlib as plt\n",
    "%matplotlib inline\n",
    "import pandas as pd\n",
    "import matplotlib.patches as mpatches\n",
    "import plotly.express as px\n",
    "from geotext import GeoText\n",
    "from geopy.geocoders import Nominatim\n",
    "from geopy.exc import GeocoderTimedOut\n",
    "import requests\n",
    "from bs4 import BeautifulSoup\n",
    "import os\n",
    "import re\n",
    "from functools import reduce"
   ]
  },
  {
   "cell_type": "code",
   "execution_count": null,
   "metadata": {},
   "outputs": [],
   "source": [
    "df2 = pd.read_csv('2020-03-04 Coronavirus Tweets.CSV',encoding='utf-8')\n",
    "df2_text = df2[[\"text\"]]\n",
    "df2_text.to_string()\n",
    "df2_text1 = df2_text.reset_index(drop=True)\n",
    "df2_text1['geotext'] = df2_text1[\"text\"].apply(lambda text: GeoText(text))"
   ]
  },
  {
   "cell_type": "markdown",
   "metadata": {},
   "source": [
    "# Extract Location"
   ]
  },
  {
   "cell_type": "code",
   "execution_count": null,
   "metadata": {},
   "outputs": [],
   "source": [
    "a = []\n",
    "for i in range(0,len(df2_text1)):a  += (df2_text1['geotext'][i].cities)\n",
    "city_mentions = pd.DataFrame(a, columns=['city'])"
   ]
  },
  {
   "cell_type": "code",
   "execution_count": null,
   "metadata": {},
   "outputs": [],
   "source": [
    "city_mentions"
   ]
  },
  {
   "cell_type": "code",
   "execution_count": null,
   "metadata": {},
   "outputs": [],
   "source": [
    "rank = city_mentions['city'].value_counts(ascending = False)\n",
    "rank"
   ]
  },
  {
   "cell_type": "code",
   "execution_count": null,
   "metadata": {},
   "outputs": [],
   "source": [
    "cities_to_remove = ['Corona', 'March', 'Of','Most','Obama','Un','Una','Bo','Best','Ho','Nice','University','Man','Police','Como']"
   ]
  },
  {
   "cell_type": "code",
   "execution_count": null,
   "metadata": {},
   "outputs": [],
   "source": [
    "city_mentions = city_mentions[~city_mentions['city'].isin(cities_to_remove)]\n",
    "city_mentions"
   ]
  },
  {
   "cell_type": "code",
   "execution_count": null,
   "metadata": {},
   "outputs": [],
   "source": [
    "rank = city_mentions['city'].value_counts()\n",
    "rank"
   ]
  },
  {
   "cell_type": "code",
   "execution_count": null,
   "metadata": {},
   "outputs": [],
   "source": [
    "rank = pd.DataFrame(rank)\n",
    "rank"
   ]
  },
  {
   "cell_type": "code",
   "execution_count": null,
   "metadata": {},
   "outputs": [],
   "source": [
    "rank.to_csv('test_rank.csv')"
   ]
  },
  {
   "cell_type": "markdown",
   "metadata": {},
   "source": [
    "# Extract Geolocation"
   ]
  },
  {
   "cell_type": "code",
   "execution_count": null,
   "metadata": {},
   "outputs": [],
   "source": [
    "df = pd.read_csv(\"test_rank.csv\",encoding='utf-8')\n",
    "df"
   ]
  },
  {
   "cell_type": "code",
   "execution_count": null,
   "metadata": {},
   "outputs": [],
   "source": [
    "df.columns = ['city','count']"
   ]
  },
  {
   "cell_type": "code",
   "execution_count": null,
   "metadata": {},
   "outputs": [],
   "source": [
    "from geopy.geocoders import Nominatim\n",
    "from geopy.exc import GeocoderTimedOut"
   ]
  },
  {
   "cell_type": "code",
   "execution_count": null,
   "metadata": {},
   "outputs": [],
   "source": [
    "#use geopy's geolocator to find information on all the cities in the list\n",
    "chrome_user_agent = \"Mozilla/5.0 (Windows NT 10.0; Win64; x64) AppleWebKit/537.36 (KHTML, like Gecko) Chrome/81.0.4044.92 Safari/537.36\"\n",
    "\n",
    "geolocator = Nominatim(timeout=10,user_agent=chrome_user_agent)\n",
    "\n",
    "lat_lon = []\n",
    "for i in df.city: \n",
    "    try:\n",
    "        location = geolocator.geocode(i)\n",
    "        if location:\n",
    "            lat_lon.append(location)\n",
    "    except GeocoderTimedOut as e:\n",
    "        print(\"Error: geocode failed on input %s with message %s\"%\n",
    "             (i, e))"
   ]
  },
  {
   "cell_type": "code",
   "execution_count": null,
   "metadata": {},
   "outputs": [],
   "source": [
    "#create a df for raw output from the geolocator, maybe put cleaning directly after this; or append to original df\n",
    "city_data = pd.DataFrame(lat_lon, columns=['raw_data','raw_data2'])\n",
    "\n",
    "#re-order the cols\n",
    "city_data = city_data[['raw_data2', 'raw_data']]\n",
    "\n",
    "#get the city names from raw_data\n",
    "city_data['city'] = city_data['raw_data'].str.split(',').str[0]"
   ]
  },
  {
   "cell_type": "code",
   "execution_count": null,
   "metadata": {},
   "outputs": [],
   "source": [
    "#change the coordinates to a string\n",
    "city_data['raw_data2'] = city_data['raw_data2'].astype(str)\n",
    "\n",
    "#split the coordinates using the comma as the delimiter\n",
    "city_data[['lat','lon']] = city_data.raw_data2.str.split(\",\",expand=True,)\n",
    "\n",
    "#remove the parentheses\n",
    "city_data['lat'] = city_data['lat'].map(lambda x:x.lstrip('()'))\n",
    "city_data['lon'] = city_data['lon'].map(lambda x:x.rstrip('()'))\n",
    "\n",
    "#convert the lat and lon columns back to floats\n",
    "city_data = city_data.astype({'lat': 'float64', 'lon': 'float64'})\n",
    "\n",
    "#drop the raw data columns\n",
    "city_data.drop(['raw_data2', 'raw_data'], axis = 1, inplace=True)"
   ]
  },
  {
   "cell_type": "code",
   "execution_count": null,
   "metadata": {},
   "outputs": [],
   "source": [
    "city_data"
   ]
  },
  {
   "cell_type": "code",
   "execution_count": null,
   "metadata": {},
   "outputs": [],
   "source": [
    "#merge the two dataframes\n",
    "merged = pd.merge(df, city_data, left_index=True, right_index=True)"
   ]
  },
  {
   "cell_type": "code",
   "execution_count": null,
   "metadata": {},
   "outputs": [],
   "source": [
    "merged"
   ]
  },
  {
   "cell_type": "code",
   "execution_count": null,
   "metadata": {},
   "outputs": [],
   "source": [
    "merged.to_csv(\"geolocation_test.csv\")"
   ]
  },
  {
   "cell_type": "code",
   "execution_count": null,
   "metadata": {},
   "outputs": [],
   "source": []
  }
 ]
}