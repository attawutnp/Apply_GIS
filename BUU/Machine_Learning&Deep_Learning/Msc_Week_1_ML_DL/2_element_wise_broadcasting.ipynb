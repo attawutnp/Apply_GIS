{
 "metadata": {
  "language_info": {
   "codemirror_mode": {
    "name": "ipython",
    "version": 3
   },
   "file_extension": ".py",
   "mimetype": "text/x-python",
   "name": "python",
   "nbconvert_exporter": "python",
   "pygments_lexer": "ipython3",
   "version": 3
  },
  "orig_nbformat": 2,
  "kernelspec": {
   "name": "python_defaultSpec_1596785860076",
   "display_name": "Python 3.7.7 64-bit (conda)"
  }
 },
 "nbformat": 4,
 "nbformat_minor": 2,
 "cells": [
  {
   "cell_type": "markdown",
   "metadata": {},
   "source": [
    "# Element-wise"
   ]
  },
  {
   "cell_type": "code",
   "execution_count": 1,
   "metadata": {
    "tags": []
   },
   "outputs": [
    {
     "output_type": "stream",
     "name": "stdout",
     "text": "[[ 6  8]\n [10 12]]\n[[-4 -4]\n [-4 -4]]\n[[ 5 12]\n [21 32]]\n[[0.2        0.33333333]\n [0.42857143 0.5       ]]\n"
    }
   ],
   "source": [
    "import numpy as np\n",
    "\n",
    "x = np.array([[1,2],[3,4]])\n",
    "y = np.array([[5,6],[7,8]])\n",
    "\n",
    "# [[ 1  2] + [[ 5  6] =  [[ 6  8]\n",
    "#   [3 4]]    [ 7  8]]    [10 12]]\n",
    "print(x + y)\n",
    "\n",
    "# [[-4 -4]\n",
    "#  [-4 -4]]\n",
    "print(x - y)\n",
    "\n",
    "# [[ 5 12]\n",
    "#  [21 32]]\n",
    "print(x * y)\n",
    "\n",
    "# ตัวอย่างการหาร เมื่อเลขไม่ลงตัว สมาชิกใน array จะเปลี่ยนเป็นจำนวนจริงโดยอัตโนมัติเหมือนกรณีการหารตัวเลข\n",
    "# [[ 0.2         0.33333333]\n",
    "#  [ 0.42857143  0.5       ]]\n",
    "print(x / y)"
   ]
  },
  {
   "cell_type": "code",
   "execution_count": 2,
   "metadata": {
    "tags": []
   },
   "outputs": [
    {
     "output_type": "stream",
     "name": "stdout",
     "text": "[[ 1  4]\n [ 9 16]]\n[[1.         1.41421356]\n [1.73205081 2.        ]]\n[[1.         1.41421356]\n [1.73205081 2.        ]]\n"
    }
   ],
   "source": [
    "# ยกกำลัง\n",
    "print(x ** 2)\n",
    "\n",
    "# ถอดรากที่สองมีสองวิธีคือเรียกฟังก์ชั่นของ numpy หรือ ยกกำลังด้วย 1/2\n",
    "print(np.sqrt(x))\n",
    "print(x ** (1/2))"
   ]
  },
  {
   "cell_type": "markdown",
   "metadata": {},
   "source": [
    "# Broadcasting"
   ]
  },
  {
   "cell_type": "code",
   "execution_count": 8,
   "metadata": {
    "tags": []
   },
   "outputs": [
    {
     "output_type": "stream",
     "name": "stdout",
     "text": "[[1 2 3]\n [4 5 6]\n [7 8 9]] \n\n"
    }
   ],
   "source": [
    "import numpy as np\n",
    "W = np.array([[1,2,3],[4,5,6],[7,8,9]]) #สมมติเรามีเมตริกซ์ขนาด 3x3\n",
    "print(W,'\\n')"
   ]
  },
  {
   "cell_type": "code",
   "execution_count": 6,
   "metadata": {
    "tags": []
   },
   "outputs": [
    {
     "output_type": "stream",
     "name": "stdout",
     "text": "[1 0 1] \n\n"
    }
   ],
   "source": [
    "x = np.array([1,0,1])\n",
    "print(x,'\\n')"
   ]
  },
  {
   "cell_type": "code",
   "execution_count": 10,
   "metadata": {
    "tags": []
   },
   "outputs": [
    {
     "output_type": "stream",
     "name": "stdout",
     "text": "[[1]\n [0]\n [1]] \n\n[[1 0 1]]\n"
    }
   ],
   "source": [
    "y = x.reshape(3,1) # สร้างเวกเตอร์แนวตั้ง หรือคอลัมภ์เวกเตอร์\n",
    "z = x.reshape(1,3) # สร้างเวกเตอร์แนวนอน\n",
    "print(y,'\\n')\n",
    "print(z)"
   ]
  },
  {
   "cell_type": "code",
   "execution_count": 11,
   "metadata": {
    "tags": []
   },
   "outputs": [
    {
     "output_type": "stream",
     "name": "stdout",
     "text": "Broadcasting addition with respect to the column vector : \n[[ 2  3  4]\n [ 4  5  6]\n [ 8  9 10]] \n\n"
    }
   ],
   "source": [
    "print('Broadcasting addition with respect to the column vector : ')\n",
    "print(W+y,'\\n') # บวกทุกคอลัมภ์ของเมตริกซ์ด้วยเวกเตอร์แนวตั้ง"
   ]
  },
  {
   "cell_type": "code",
   "execution_count": 12,
   "metadata": {
    "tags": []
   },
   "outputs": [
    {
     "output_type": "stream",
     "name": "stdout",
     "text": "Broadcasting addition with respect to the row vector : \n[[ 2  2  4]\n [ 5  5  7]\n [ 8  8 10]] \n\n"
    }
   ],
   "source": [
    "print('Broadcasting addition with respect to the row vector : ')\n",
    "print(W+z,'\\n') # บวกทุกแถวของเมตริกซ์ด้วยเวกเตอร์แนวนอน"
   ]
  },
  {
   "cell_type": "code",
   "execution_count": 13,
   "metadata": {
    "tags": []
   },
   "outputs": [
    {
     "output_type": "stream",
     "name": "stdout",
     "text": "Broadcasting constant multiplication example : \n[[ 2  4  6]\n [ 8 10 12]\n [14 16 18]]\n"
    }
   ],
   "source": [
    "# จริงๆ แล้วการคูณเมตริกซ์ด้วยค่าคงที่ก็คือ Broadcasting ชนิดหนึ่ง \n",
    "print('Broadcasting constant multiplication example : ')\n",
    "print(W*2)"
   ]
  },
  {
   "cell_type": "code",
   "execution_count": null,
   "metadata": {},
   "outputs": [],
   "source": []
  }
 ]
}