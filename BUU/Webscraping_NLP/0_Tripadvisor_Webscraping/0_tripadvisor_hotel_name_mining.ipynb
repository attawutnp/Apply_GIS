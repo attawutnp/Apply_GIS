{
 "cells": [
  {
   "cell_type": "code",
   "execution_count": null,
   "id": "7ed8a5c6",
   "metadata": {},
   "outputs": [],
   "source": [
    "def web_link_scrap(name,name_1,province):\n",
    "    import requests\n",
    "    from bs4 import BeautifulSoup as soup \n",
    "    import pandas as pd\n",
    "    province = str(province)\n",
    "    html = requests.get(str(name), headers={\"User-Agent\": \"Mozilla/5.0 (X11; CrOS x86_64 12871.102.0) AppleWebKit/537.36 (KHTML, like Gecko) Chrome/81.0.4044.141 Safari/537.36\"})\n",
    "    bsobj = soup(html.content,'lxml')\n",
    "    links = []\n",
    "    try:\n",
    "        for review in bsobj.findAll('a',{'class':'review_count'}):\n",
    "            a = review['href']\n",
    "            a = 'th.tripadvisor.com'+ a\n",
    "            a = a[:(a.find('Reviews')+100)] + '-or{}' + a[(a.find('Reviews')+100):]\n",
    "            print(a)\n",
    "            links.append(a)\n",
    "    except Exception:\n",
    "        pass\n",
    "    \n",
    "    df = pd.DataFrame(links)\n",
    "    df.to_csv('0_output_name/0mining_' + str(name_1)+ '_' + province+'_hotel_tripadvisor.csv',encoding='utf-8-sig')"
   ]
  },
  {
   "cell_type": "code",
   "execution_count": null,
   "id": "e6bda8cc",
   "metadata": {},
   "outputs": [],
   "source": [
    "name = 'Bagnkok'\n",
    "web_link_scrap('https://www.tripadvisor.com/Hotels-g293916-Bangkok-Hotels.html','1',name)\n",
    "#web_link_scrap('https://www.tripadvisor.com/Hotels-g293916-oa30-Bangkok-Hotels.html','2')\n",
    "#web_link_scrap('https://www.tripadvisor.com/Hotels-g293916-oa60-Bangkok-Hotels.html','3')"
   ]
  }
 ],
 "metadata": {
  "kernelspec": {
   "display_name": "Python 3",
   "language": "python",
   "name": "python3"
  },
  "language_info": {
   "codemirror_mode": {
    "name": "ipython",
    "version": 3
   },
   "file_extension": ".py",
   "mimetype": "text/x-python",
   "name": "python",
   "nbconvert_exporter": "python",
   "pygments_lexer": "ipython3",
   "version": "3.8.13"
  }
 },
 "nbformat": 4,
 "nbformat_minor": 5
}
