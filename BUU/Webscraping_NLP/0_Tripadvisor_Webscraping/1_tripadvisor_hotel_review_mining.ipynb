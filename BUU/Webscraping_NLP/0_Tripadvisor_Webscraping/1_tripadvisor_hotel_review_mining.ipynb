{
 "cells": [
  {
   "cell_type": "markdown",
   "id": "e4085be1",
   "metadata": {},
   "source": [
    "# Function"
   ]
  },
  {
   "cell_type": "code",
   "execution_count": null,
   "id": "fdff11d0",
   "metadata": {},
   "outputs": [],
   "source": [
    "def review_trip(name):\n",
    "    import sys\n",
    "    import csv\n",
    "    from selenium import webdriver\n",
    "    from webdriver_manager.chrome import ChromeDriverManager\n",
    "    import time\n",
    "    from selenium.common.exceptions import NoSuchElementException\n",
    "\n",
    "    # number of scraped pages\n",
    "    num_page = 100000\n",
    "\n",
    "    # tripadvisor website of hotel or things to do (attraction/monument) \n",
    "    url = \"https://\" + str(name)\n",
    "\n",
    "    # if you pass the inputs in the command line\n",
    "    if (len(sys.argv) == 4):\n",
    "        path_to_file = sys.argv[1]\n",
    "        num_page = int(sys.argv[2])\n",
    "        url = sys.argv[3]\n",
    "    \n",
    "    # import the webdriver\n",
    "    driver = webdriver.Chrome(executable_path=ChromeDriverManager().install())\n",
    "    driver.get(url)\n",
    "\n",
    "    try:\n",
    "        driver.find_element_by_class_name('evidon-banner-acceptbutton').click()\n",
    "    except:\n",
    "        pass \n",
    "\n",
    "    geolocation = \"\"\n",
    "\n",
    "    title_text = str(driver.title)\n",
    "    title_text_strip = title_text.replace(\" - Prices & Reviews (Thailand) - Tripadvisor\",\"\")\n",
    "    print(title_text_strip)\n",
    "\n",
    "    time.sleep(5)\n",
    "    try:\n",
    "        images = driver.find_elements_by_xpath(\".//img[contains(@class,'ChASv')]\")\n",
    "        for image in images:\n",
    "            geolocation = image.get_attribute('src')\n",
    "    except:\n",
    "        pass   \n",
    "\n",
    "    print(geolocation)\n",
    "    \n",
    "    path_to_file =  \"1_output_review/mining_\" + title_text_strip + \".csv\"\n",
    "    # open the file to save the review\n",
    "    csvFile = open(path_to_file, 'a', encoding=\"utf-8-sig\")\n",
    "    csvWriter = csv.writer(csvFile)\n",
    "\n",
    "    \n",
    "    for i in range(0, num_page):\n",
    "\n",
    "        # expand the review \n",
    "        time.sleep(5)\n",
    "        try:\n",
    "            driver.find_element_by_xpath(\".//div[contains(@data-test-target, 'expand-review')]\").click()\n",
    "            time.sleep(5)\n",
    "\n",
    "            container = driver.find_elements_by_xpath(\"//div[@data-reviewid]\")\n",
    "            print(len(container))\n",
    "            dates = driver.find_elements_by_xpath(\".//div[@class='bcaHz']\")\n",
    "            print(len(dates))\n",
    "\n",
    "            for j in range(len(container)):\n",
    "                time.sleep(5)\n",
    "                rating = container[j].find_element_by_xpath(\".//span[contains(@class, 'ui_bubble_rating bubble_')]\").get_attribute(\"class\").split(\"_\")[3]\n",
    "                title = container[j].find_element_by_xpath(\".//div[contains(@data-test-target, 'review-title')]\").text\n",
    "                review = container[j].find_element_by_xpath(\".//q[@class='XllAv H4 _a']\").text.replace(\"\\n\", \"  \")\n",
    "                date = dates[j].text\n",
    "                print(rating,title,review,date)\n",
    "\n",
    "                csvWriter.writerow([date, rating, title, review, title_text_strip, geolocation]) \n",
    "\n",
    "            try:\n",
    "                driver.find_element_by_xpath('.//a[@class=\"ui_button nav next primary \"]').click()\n",
    "            except:\n",
    "                break\n",
    "            time.sleep(5)\n",
    "        except:\n",
    "            break\n",
    "    \n",
    "    for i in range(0, num_page):\n",
    "\n",
    "        # expand the review \n",
    "        time.sleep(5)\n",
    "        try:\n",
    "            driver.find_element_by_xpath(\".//div[contains(@data-test-target, 'expand-review')]\").click()\n",
    "            time.sleep(5)\n",
    "\n",
    "            container = driver.find_elements_by_xpath(\"//div[@data-reviewid]\")\n",
    "            print(len(container))\n",
    "            dates = driver.find_elements_by_xpath(\".//div[@class='bcaHz']\")\n",
    "            print(len(dates))\n",
    "\n",
    "            for j in range(len(container)):\n",
    "                time.sleep(5)\n",
    "                rating = container[j].find_element_by_xpath(\".//span[contains(@class, 'ui_bubble_rating bubble_')]\").get_attribute(\"class\").split(\"_\")[3]\n",
    "                title = container[j].find_element_by_xpath(\".//div[contains(@data-test-target, 'review-title')]\").text\n",
    "                review = container[j].find_element_by_xpath(\".//q[@class='XllAv H4 _a']\").text.replace(\"\\n\", \"  \")\n",
    "                date = dates[j].text\n",
    "                print(rating,title,review,date)\n",
    "\n",
    "                csvWriter.writerow([date, rating, title, review, title_text_strip, geolocation]) \n",
    "\n",
    "            try:\n",
    "                driver.find_element_by_xpath('.//a[@class=\"ui_button nav next primary \"]').click()\n",
    "            except:\n",
    "                break\n",
    "            time.sleep(5)\n",
    "        except:\n",
    "            break\n",
    "        \n",
    "    driver.quit()"
   ]
  },
  {
   "cell_type": "code",
   "execution_count": null,
   "id": "661f4c20",
   "metadata": {},
   "outputs": [],
   "source": [
    "#review_trip(\"tripadvisor.com/Hotel_Review-g293916-d11888125-Reviews-Hoppers_Place_Donmuang_Hostel-Bangkok.html\")\n",
    "review_trip(\"tripadvisor.com/Hotel_Review-g293916-d10682876-Reviews-Hide_Bangkok_Hostel-Bangkok.html\")"
   ]
  },
  {
   "cell_type": "markdown",
   "id": "22ac779e",
   "metadata": {},
   "source": [
    "# Set Variable"
   ]
  },
  {
   "cell_type": "code",
   "execution_count": null,
   "id": "b6d8794a",
   "metadata": {},
   "outputs": [],
   "source": [
    "hotel_name_list = [\n",
    "\"tripadvisor.com/Hotel_Review-g293916-d11888125-Reviews-Hoppers_Place_Donmuang_Hostel-Bangkok.html\",\n",
    "\"tripadvisor.com/Hotel_Review-g293916-d10682876-Reviews-Hide_Bangkok_Hostel-Bangkok.html\",\n",
    "]\n",
    "\n",
    "len(hotel_name_list)"
   ]
  },
  {
   "cell_type": "markdown",
   "id": "c7a5f683",
   "metadata": {},
   "source": [
    "# Run Function"
   ]
  },
  {
   "cell_type": "code",
   "execution_count": null,
   "id": "0d0d203d",
   "metadata": {},
   "outputs": [],
   "source": [
    "for index, elem in enumerate(hotel_name_list):\n",
    "    print(index, elem)\n",
    "    review_trip(elem)\n",
    "    print(\"Finish\",elem)"
   ]
  },
  {
   "cell_type": "code",
   "execution_count": null,
   "id": "cb190a92",
   "metadata": {},
   "outputs": [],
   "source": []
  }
 ],
 "metadata": {
  "kernelspec": {
   "display_name": "Python 3",
   "language": "python",
   "name": "python3"
  },
  "language_info": {
   "codemirror_mode": {
    "name": "ipython",
    "version": 3
   },
   "file_extension": ".py",
   "mimetype": "text/x-python",
   "name": "python",
   "nbconvert_exporter": "python",
   "pygments_lexer": "ipython3",
   "version": "3.8.13"
  }
 },
 "nbformat": 4,
 "nbformat_minor": 5
}
